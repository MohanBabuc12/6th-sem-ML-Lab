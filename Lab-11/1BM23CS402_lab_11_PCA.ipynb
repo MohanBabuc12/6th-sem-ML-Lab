{
  "nbformat": 4,
  "nbformat_minor": 0,
  "metadata": {
    "colab": {
      "provenance": []
    },
    "kernelspec": {
      "name": "python3",
      "display_name": "Python 3"
    },
    "language_info": {
      "name": "python"
    }
  },
  "cells": [
    {
      "cell_type": "code",
      "execution_count": 2,
      "metadata": {
        "colab": {
          "base_uri": "https://localhost:8080/"
        },
        "id": "mzExphGw2gFh",
        "outputId": "615da05c-fd6d-4ec5-d089-f53e7519eb44"
      },
      "outputs": [
        {
          "output_type": "stream",
          "name": "stdout",
          "text": [
            "Explained variance ratio by each component: [0.12038006 0.09733098]\n",
            "PCA + Logistic Regression Accuracy: 51.67%\n"
          ]
        }
      ],
      "source": [
        "# Import necessary libraries\n",
        "from sklearn.datasets import load_digits\n",
        "from sklearn.model_selection import train_test_split\n",
        "from sklearn.preprocessing import StandardScaler\n",
        "from sklearn.decomposition import PCA\n",
        "from sklearn.linear_model import LogisticRegression\n",
        "from sklearn.metrics import accuracy_score\n",
        "\n",
        "# Step 1: Load the digits dataset\n",
        "digits = load_digits()\n",
        "X = digits.data    # Features\n",
        "y = digits.target  # Labels\n",
        "\n",
        "# Step 2: Split the data into training and testing sets (80% training, 20% testing)\n",
        "X_train, X_test, y_train, y_test = train_test_split(\n",
        "    X, y, test_size=0.2, random_state=42\n",
        ")\n",
        "\n",
        "# Step 3: Scale the features (important before PCA)\n",
        "scaler = StandardScaler()\n",
        "X_train_scaled = scaler.fit_transform(X_train)\n",
        "X_test_scaled = scaler.transform(X_test)\n",
        "\n",
        "# Step 4: Apply PCA with 2 components\n",
        "pca = PCA(n_components=2)\n",
        "X_train_pca = pca.fit_transform(X_train_scaled)\n",
        "X_test_pca = pca.transform(X_test_scaled)\n",
        "\n",
        "# Step 5: Train logistic regression on transformed data\n",
        "lr = LogisticRegression(max_iter=1000)\n",
        "lr.fit(X_train_pca, y_train)\n",
        "\n",
        "# Step 6: Predict and evaluate\n",
        "y_pred = lr.predict(X_test_pca)\n",
        "accuracy = accuracy_score(y_test, y_pred)\n",
        "\n",
        "# Print results\n",
        "print(\"Explained variance ratio by each component:\", pca.explained_variance_ratio_)\n",
        "print(\"PCA + Logistic Regression Accuracy: {:.2f}%\".format(accuracy * 100))"
      ]
    }
  ]
}